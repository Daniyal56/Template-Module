{
 "cells": [
  {
   "cell_type": "code",
   "execution_count": 14,
   "metadata": {},
   "outputs": [
    {
     "name": "stdout",
     "output_type": "stream",
     "text": [
      "Your Bill\n",
      "Coke x 4 = 110\n",
      "Cake x 50 = 10\n",
      "Fish x 2 = 180\n",
      "Your total bill Rupees:  300 Rs\n"
     ]
    }
   ],
   "source": [
    "#We have to import Template from string\n",
    "from string import Template\n",
    "\n",
    "#Now we'll make function\n",
    "\n",
    "def Main():\n",
    "#Making an empty list \n",
    "    cart = []\n",
    "#We're appending into the list below items\n",
    "    cart.append(dict(item='Coke', price= 110, qty=4))\n",
    "    cart.append(dict(item='Cake', price= 10,  qty=50))\n",
    "    cart.append(dict(item='Fish', price=180, qty=2))\n",
    "    \n",
    "#we're using template\n",
    "    t = Template('$item x $qty = $price')\n",
    "    print('Your Bill')\n",
    "    total = 0\n",
    "    for i in cart:\n",
    "        print(t.substitute(i))\n",
    "        total += i['price']\n",
    "    print('Your total bill Rupees:  ' +str(total)+ ' Rs')\n",
    "    \n",
    "if __name__ == '__main__':\n",
    "    Main()\n",
    "        "
   ]
  }
 ],
 "metadata": {
  "kernelspec": {
   "display_name": "Python 3",
   "language": "python",
   "name": "python3"
  },
  "language_info": {
   "codemirror_mode": {
    "name": "ipython",
    "version": 3
   },
   "file_extension": ".py",
   "mimetype": "text/x-python",
   "name": "python",
   "nbconvert_exporter": "python",
   "pygments_lexer": "ipython3",
   "version": "3.7.3"
  }
 },
 "nbformat": 4,
 "nbformat_minor": 2
}
